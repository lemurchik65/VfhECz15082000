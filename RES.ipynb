{
 "cells": [
  {
   "cell_type": "code",
   "execution_count": null,
   "metadata": {},
   "outputs": [],
   "source": [
    "#create base"
   ]
  },
  {
   "cell_type": "code",
   "execution_count": null,
   "metadata": {},
   "outputs": [],
   "source": [
    "from mako.template import Template\n",
    "from mako.runtime import Context\n",
    "from io import StringIO\n",
    "import random\n",
    "import matplotlib.pyplot as plt\n",
    "import random\n",
    "import PySpice.Logging.Logging as Logging\n",
    "from PySpice.Probe.Plot import plot\n",
    "from MySpice import MySpice as spice\n",
    "import numpy as np\n",
    "from numpy import genfromtxt\n",
    "import tensorflow as tf\n",
    "N1=1000\n",
    "N2=20000\n",
    "nom=5\n",
    "lab=3\n",
    "ban= np.empty(N1)\n",
    "noise=45"
   ]
  },
  {
   "cell_type": "code",
   "execution_count": null,
   "metadata": {},
   "outputs": [],
   "source": [
    "def type_1(i):\n",
    "    k=0    \n",
    "    file_name = 'C:\\\\Users\\\\kipar\\\\Desktop\\\\Test\\\\CIR{}\\\\{}-{}.cir'.format(lab,k,i)\n",
    "    mytemplate = Template(filename='C:\\\\Users\\\\kipar\\\\Desktop\\\\Test\\\\пример{}.txt'.format(k+1))\n",
    "    buf = StringIO()\n",
    "    ctx = Context(buf, r1=str(random.randint(10, 10000)))\n",
    "    graf(ctx, buf, file_name, mytemplate, k, i)"
   ]
  },
  {
   "cell_type": "code",
   "execution_count": null,
   "metadata": {},
   "outputs": [],
   "source": [
    "def type_2(i):\n",
    "    k=1    \n",
    "    file_name = 'C:\\\\Users\\\\kipar\\\\Desktop\\\\Test\\\\CIR{}\\\\{}-{}.cir'.format(lab,k,i)\n",
    "    mytemplate = Template(filename='C:\\\\Users\\\\kipar\\\\Desktop\\\\Test\\\\пример{}.txt'.format(k+1))\n",
    "    buf = StringIO()\n",
    "    ctx = Context(buf, r1=str(random.randint(10, 10000)), c1=str(random.randint(100,100000)))\n",
    "    graf(ctx, buf, file_name, mytemplate, k, i)"
   ]
  },
  {
   "cell_type": "code",
   "execution_count": null,
   "metadata": {},
   "outputs": [],
   "source": [
    "def type_3(i):\n",
    "    k=2  \n",
    "    file_name = 'C:\\\\Users\\\\kipar\\\\Desktop\\\\Test\\\\CIR{}\\\\{}-{}.cir'.format(lab,k,i)\n",
    "    mytemplate = Template(filename='C:\\\\Users\\\\kipar\\\\Desktop\\\\Test\\\\пример{}.txt'.format(k+1))\n",
    "    buf = StringIO()\n",
    "    ctx = Context(buf, r1=str(random.randint(10, 1000)), N1=str(random.uniform(1.,2.)))\n",
    "    graf(ctx, buf, file_name, mytemplate, k, i)"
   ]
  },
  {
   "cell_type": "code",
   "execution_count": null,
   "metadata": {},
   "outputs": [],
   "source": [
    "def type_4(i):\n",
    "    k=3 \n",
    "    file_name = 'C:\\\\Users\\\\kipar\\\\Desktop\\\\Test\\\\CIR{}\\\\{}-{}.cir'.format(lab,k,i)\n",
    "    mytemplate = Template(filename='C:\\\\Users\\\\kipar\\\\Desktop\\\\Test\\\\пример{}.txt'.format(k+1))\n",
    "    buf = StringIO()\n",
    "    ctx = Context(buf, c1=str(random.randint(100, 5000)), N1=str(random.uniform(1.,2.)))\n",
    "    graf(ctx, buf, file_name, mytemplate, k, i)"
   ]
  },
  {
   "cell_type": "code",
   "execution_count": null,
   "metadata": {},
   "outputs": [],
   "source": [
    "def type_5(i):\n",
    "    k=4\n",
    "    file_name = 'C:\\\\Users\\\\kipar\\\\Desktop\\\\Test\\\\CIR{}\\\\{}-{}.cir'.format(lab,k,i)\n",
    "    mytemplate = Template(filename='C:\\\\Users\\\\kipar\\\\Desktop\\\\Test\\\\пример{}.txt'.format(k+1))\n",
    "    buf = StringIO()\n",
    "    ctx = Context(buf, N1=str(random.uniform(1.,2.)), N2=str(random.uniform(1.,2.)))\n",
    "    graf(ctx, buf, file_name, mytemplate, k, i)"
   ]
  },
  {
   "cell_type": "code",
   "execution_count": null,
   "metadata": {},
   "outputs": [],
   "source": [
    "def graf(ctx, buf, file_name, mytemplate, k, i):\n",
    "    mytemplate.render_context(ctx)\n",
    "    with open(file_name,'w') as f:\n",
    "        f.write(buf.getvalue())\n",
    "    logger = Logging.setup_logging()\n",
    "    circuit = spice.LoadFile('C:\\\\Users\\\\kipar\\\\Desktop\\\\Test\\\\CIR{}\\\\{}-{}.cir'.format(lab,k, i))\n",
    "    input_data = spice.Init_Data(100, 5, 4700, noise)\n",
    "    analysis = spice.CreateCVC1(circuit, input_data, 100, \"input\")\n",
    "    spice.SaveFile(analysis,\"C:\\\\Users\\\\kipar\\\\Desktop\\\\Test\\\\CSV{}\\\\{}.csv\".format(lab,i))\n",
    "    #png(i, analysis, k)"
   ]
  },
  {
   "cell_type": "code",
   "execution_count": null,
   "metadata": {},
   "outputs": [],
   "source": [
    "def png(i, analysis, k):\n",
    "    if (i%1==0):\n",
    "            figure1 = plt.figure(1, (20, 10))\n",
    "            plt.grid()\n",
    "            plt.plot(analysis.input_dummy, analysis.VCurrent, color = 'black')\n",
    "            plt.xlabel('Напряжение [В]')\n",
    "            plt.ylabel('Сила тока [А]')\n",
    "            plt.xlim (-5, 5)\n",
    "            plt.axis('off')\n",
    "            plt.show()\n",
    "            figure1.savefig('C:\\\\Users\\\\kipar\\\\Desktop\\\\Test\\\\PNG{}\\\\{}-{}.png'.format(lab,k, i), transparent=True, facecolor = \"w\")"
   ]
  },
  {
   "cell_type": "code",
   "execution_count": null,
   "metadata": {},
   "outputs": [],
   "source": [
    "def base():\n",
    "    for i in range(0, N1):       \n",
    "        if i<(N1/nom):\n",
    "            type_1(i)\n",
    "        if (i>=(N1/nom) and i<(N1*2/nom)):\n",
    "            type_2(i)\n",
    "        if (i>=(N1*2/nom) and i<((N1*3)/nom)):\n",
    "            type_3(i)\n",
    "        if (i>=(N1*(3/nom)) and i<N1*4/nom):\n",
    "            type_4(i)\n",
    "        if (i>=(N1*(4/nom)) and i<(N1*5/nom)):\n",
    "            type_5(i)\n",
    "        "
   ]
  },
  {
   "cell_type": "code",
   "execution_count": null,
   "metadata": {},
   "outputs": [],
   "source": [
    "base()\n"
   ]
  },
  {
   "cell_type": "code",
   "execution_count": null,
   "metadata": {},
   "outputs": [],
   "source": [
    "#creat dataset"
   ]
  },
  {
   "cell_type": "code",
   "execution_count": null,
   "metadata": {},
   "outputs": [],
   "source": [
    "#сдвиг массива\n",
    "def shift(a, n):\n",
    "    shif=np.zeros((n, 2, 100))\n",
    "    for i in range(0, n):    \n",
    "        sdvig=np.random.randint(0,100)\n",
    "        sdvig=-sdvig\n",
    "        for j in range(0,2):\n",
    "            for m in range(0,100):            \n",
    "                if (m+sdvig<100):\n",
    "                    shif[i, j, m]=a[i, j, m+sdvig]\n",
    "                if (m+sdvig>=100):\n",
    "                    shif[i, j, m]=a[i, j, m+sdvig-100]\n",
    "                if m+sdvig<0:\n",
    "                    shif[i, j, m]=a[i, j, m+sdvig+100]\n",
    "    return(shif)"
   ]
  },
  {
   "cell_type": "code",
   "execution_count": null,
   "metadata": {},
   "outputs": [],
   "source": [
    "#создание y1 y2\n",
    "def y_1(t, n, k):\n",
    "    y = np.empty(n, dtype=int)\n",
    "    for i in range(0,n):\n",
    "        if i<(n/k):\n",
    "            y[i]=0\n",
    "        if (i>=(n/k) and i<(n*2/k)):\n",
    "            y[i]=1\n",
    "        if (i>=(n*2/k) and i<(n*3/k)):\n",
    "            y[i]=2\n",
    "        if (i>=(n*3/k) and i<(n*4/k)):\n",
    "            y[i]=3\n",
    "        if (i>=(n*4/k) and i<(n*5/k)):\n",
    "            y[i]=4\n",
    "    return(y)     \n"
   ]
  },
  {
   "cell_type": "code",
   "execution_count": null,
   "metadata": {},
   "outputs": [],
   "source": [
    "#создание y x\n",
    "def dataset(n, l, k):\n",
    "    t = np.random.permutation(n)\n",
    "    y1=y_1(t,n, k)\n",
    "    lam = np.empty((n, 2, 100))\n",
    "    for i in range(0,n):\n",
    "        lam[i, :, :]=genfromtxt('C:\\\\Users\\\\kipar\\\\Desktop\\\\Test\\\\CSV{}\\\\{}.csv'.format(l,i), delimiter=';')\n",
    "    x=np.empty((n, 2, 100))\n",
    "    y = np.empty(n, dtype=int)\n",
    "    for i in range(0,n):\n",
    "        for j in range(0,2):\n",
    "            x[i, j, :]=lam[t[i], j, :]/max(abs(lam[t[i], j, :]))\n",
    "        y[i]=y1[t[i]]\n",
    "    return(shift(x, n), y)"
   ]
  },
  {
   "cell_type": "code",
   "execution_count": null,
   "metadata": {},
   "outputs": [],
   "source": [
    "x_test, y_test = dataset(N1, lab, nom)"
   ]
  },
  {
   "cell_type": "code",
   "execution_count": null,
   "metadata": {},
   "outputs": [],
   "source": [
    "x_train, y_train = dataset(1000, 3, 5)"
   ]
  },
  {
   "cell_type": "code",
   "execution_count": null,
   "metadata": {},
   "outputs": [],
   "source": [
    "# learning NS"
   ]
  },
  {
   "cell_type": "code",
   "execution_count": null,
   "metadata": {
    "scrolled": true
   },
   "outputs": [],
   "source": [
    "model = tf.keras.models.Sequential([\n",
    "tf.keras.layers.Flatten(input_shape=(2, 100)),\n",
    "tf.keras.layers.Dense(100, activation=tf.nn.relu),\n",
    "tf.keras.layers.Dropout(0.2),\n",
    "tf.keras.layers.Dense(5, activation=tf.nn.softmax)])\n",
    "model.compile(optimizer='adam',\n",
    "loss='sparse_categorical_crossentropy',\n",
    "metrics=['accuracy'])\n",
    "history=model.fit(x_test, y_test, epochs=120, validation_split=0.5)"
   ]
  },
  {
   "cell_type": "code",
   "execution_count": null,
   "metadata": {},
   "outputs": [],
   "source": [
    "plt.plot(history.history['accuracy'])\n",
    "plt.plot(history.history['val_accuracy'])\n",
    "plt.title('model accuracy')\n",
    "plt.ylabel('accuracy')\n",
    "plt.xlabel('epoch')\n",
    "plt.legend(['train', 'validation'], loc='upper left')\n",
    "plt.show()\n",
    "plt.plot(history.history['loss'])\n",
    "plt.plot(history.history['val_loss'])\n",
    "plt.title('model loss')\n",
    "plt.ylabel('loss')\n",
    "plt.xlabel('epoch')\n",
    "plt.legend(['train', 'validation'], loc='upper left')\n",
    "plt.show()"
   ]
  },
  {
   "cell_type": "code",
   "execution_count": null,
   "metadata": {},
   "outputs": [],
   "source": [
    "model.evaluate(x_train, y_train)"
   ]
  },
  {
   "cell_type": "code",
   "execution_count": null,
   "metadata": {},
   "outputs": [],
   "source": [
    "print(x_test)"
   ]
  },
  {
   "cell_type": "code",
   "execution_count": null,
   "metadata": {},
   "outputs": [],
   "source": [
    "predictions=model.predict(x_train)\n",
    "for i in range(0, 500):\n",
    "    print(np.argmax(predictions[i]), \" \", y_train[i])\n",
    "    if (np.argmax(predictions[i])!=y_train[i]):\n",
    "        figure1 = plt.figure(1, (20, 10))\n",
    "        plt.grid()\n",
    "        plt.plot(x_train[i, 0, :], x_train[i, 1, :])\n",
    "        plt.xlabel('Напряжение [В]')\n",
    "        plt.ylabel('Сила тока [А]')\n",
    "        plt.xlim (-5, 5)\n",
    "        plt.show()"
   ]
  },
  {
   "cell_type": "code",
   "execution_count": null,
   "metadata": {},
   "outputs": [],
   "source": []
  }
 ],
 "metadata": {
  "kernelspec": {
   "display_name": "Python 3",
   "language": "python",
   "name": "python3"
  },
  "language_info": {
   "codemirror_mode": {
    "name": "ipython",
    "version": 3
   },
   "file_extension": ".py",
   "mimetype": "text/x-python",
   "name": "python",
   "nbconvert_exporter": "python",
   "pygments_lexer": "ipython3",
   "version": "3.7.4"
  }
 },
 "nbformat": 4,
 "nbformat_minor": 4
}
