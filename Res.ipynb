{
 "cells": [
  {
   "cell_type": "code",
   "execution_count": null,
   "metadata": {},
   "outputs": [],
   "source": [
    "#создание базы"
   ]
  },
  {
   "cell_type": "code",
   "execution_count": 1,
   "metadata": {},
   "outputs": [
    {
     "ename": "ImportError",
     "evalue": "cannot import name 'MySpice' from 'MySpice' (C:\\Users\\kipar\\Downloads\\MySpice.py)",
     "output_type": "error",
     "traceback": [
      "\u001b[1;31m---------------------------------------------------------------------------\u001b[0m",
      "\u001b[1;31mImportError\u001b[0m                               Traceback (most recent call last)",
      "\u001b[1;32m<ipython-input-1-d7b553fe722e>\u001b[0m in \u001b[0;36m<module>\u001b[1;34m\u001b[0m\n\u001b[0;32m      7\u001b[0m \u001b[1;32mimport\u001b[0m \u001b[0mPySpice\u001b[0m\u001b[1;33m.\u001b[0m\u001b[0mLogging\u001b[0m\u001b[1;33m.\u001b[0m\u001b[0mLogging\u001b[0m \u001b[1;32mas\u001b[0m \u001b[0mLogging\u001b[0m\u001b[1;33m\u001b[0m\u001b[1;33m\u001b[0m\u001b[0m\n\u001b[0;32m      8\u001b[0m \u001b[1;32mfrom\u001b[0m \u001b[0mPySpice\u001b[0m\u001b[1;33m.\u001b[0m\u001b[0mProbe\u001b[0m\u001b[1;33m.\u001b[0m\u001b[0mPlot\u001b[0m \u001b[1;32mimport\u001b[0m \u001b[0mplot\u001b[0m\u001b[1;33m\u001b[0m\u001b[1;33m\u001b[0m\u001b[0m\n\u001b[1;32m----> 9\u001b[1;33m \u001b[1;32mfrom\u001b[0m \u001b[0mMySpice\u001b[0m \u001b[1;32mimport\u001b[0m \u001b[0mMySpice\u001b[0m \u001b[1;32mas\u001b[0m \u001b[0mspice\u001b[0m\u001b[1;33m\u001b[0m\u001b[1;33m\u001b[0m\u001b[0m\n\u001b[0m\u001b[0;32m     10\u001b[0m \u001b[1;32mimport\u001b[0m \u001b[0mnumpy\u001b[0m \u001b[1;32mas\u001b[0m \u001b[0mnp\u001b[0m\u001b[1;33m\u001b[0m\u001b[1;33m\u001b[0m\u001b[0m\n\u001b[0;32m     11\u001b[0m \u001b[1;32mfrom\u001b[0m \u001b[0mnumpy\u001b[0m \u001b[1;32mimport\u001b[0m \u001b[0mgenfromtxt\u001b[0m\u001b[1;33m\u001b[0m\u001b[1;33m\u001b[0m\u001b[0m\n",
      "\u001b[1;31mImportError\u001b[0m: cannot import name 'MySpice' from 'MySpice' (C:\\Users\\kipar\\Downloads\\MySpice.py)"
     ]
    }
   ],
   "source": [
    "from mako.template import Template\n",
    "from mako.runtime import Context\n",
    "from io import StringIO\n",
    "import random\n",
    "import matplotlib.pyplot as plt\n",
    "import random\n",
    "import PySpice.Logging.Logging as Logging\n",
    "from PySpice.Probe.Plot import plot\n",
    "from MySpice import MySpice as spice\n",
    "import numpy as np\n",
    "from numpy import genfromtxt\n",
    "import tensorflow as tf\n",
    "import os.path\n",
    "N1=32000\n",
    "nom=8\n",
    "lab=2\n",
    "noise=50\n",
    "point=100"
   ]
  },
  {
   "cell_type": "code",
   "execution_count": null,
   "metadata": {},
   "outputs": [],
   "source": [
    "#описание каждой из электронных схем"
   ]
  },
  {
   "cell_type": "code",
   "execution_count": null,
   "metadata": {},
   "outputs": [],
   "source": [
    "def type_1(i):\n",
    "    k=0    \n",
    "    file_name = 'C:\\\\Users\\\\kipar\\\\Desktop\\\\Test\\\\CIR{}\\\\{}-{}.cir'.format(lab,k,i)\n",
    "    if(os.path.exists(file_name)==False):\n",
    "        mytemplate = Template(filename='C:\\\\Users\\\\kipar\\\\Desktop\\\\Test\\\\пример{}.txt'.format(k+1))\n",
    "        buf = StringIO()\n",
    "        ctx = Context(buf, r1=str(random.randint(10, 10000)))\n",
    "        graf(ctx, buf, file_name, mytemplate, k, i)"
   ]
  },
  {
   "cell_type": "code",
   "execution_count": null,
   "metadata": {},
   "outputs": [],
   "source": [
    "def type_2(i):\n",
    "    k=1    \n",
    "    file_name = 'C:\\\\Users\\\\kipar\\\\Desktop\\\\Test\\\\CIR{}\\\\{}-{}.cir'.format(lab,k,i)\n",
    "    if(os.path.exists(file_name)==False):\n",
    "        mytemplate = Template(filename='C:\\\\Users\\\\kipar\\\\Desktop\\\\Test\\\\пример{}.txt'.format(k+1))\n",
    "        buf = StringIO()\n",
    "        ctx = Context(buf, r1=str(random.randint(10, 10000)), c1=str(random.randint(100,100000)))\n",
    "        graf(ctx, buf, file_name, mytemplate, k, i)"
   ]
  },
  {
   "cell_type": "code",
   "execution_count": null,
   "metadata": {},
   "outputs": [],
   "source": [
    "def type_3(i):\n",
    "    k=2  \n",
    "    file_name = 'C:\\\\Users\\\\kipar\\\\Desktop\\\\Test\\\\CIR{}\\\\{}-{}.cir'.format(lab,k,i)\n",
    "    if(os.path.exists(file_name)==False):\n",
    "        mytemplate = Template(filename='C:\\\\Users\\\\kipar\\\\Desktop\\\\Test\\\\пример{}.txt'.format(k+1))\n",
    "        buf = StringIO()\n",
    "        ctx = Context(buf, r1=str(random.randint(10, 1000)), N1=str(random.uniform(1.,2.)))\n",
    "        graf(ctx, buf, file_name, mytemplate, k, i)"
   ]
  },
  {
   "cell_type": "code",
   "execution_count": null,
   "metadata": {},
   "outputs": [],
   "source": [
    "def type_4(i):\n",
    "    k=3 \n",
    "    file_name = 'C:\\\\Users\\\\kipar\\\\Desktop\\\\Test\\\\CIR{}\\\\{}-{}.cir'.format(lab,k,i)\n",
    "    if(os.path.exists(file_name)==False):\n",
    "        mytemplate = Template(filename='C:\\\\Users\\\\kipar\\\\Desktop\\\\Test\\\\пример{}.txt'.format(k+1))\n",
    "        buf = StringIO()\n",
    "        ctx = Context(buf, c1=str(random.randint(100, 100000)), N1=str(random.uniform(1.,2.)))\n",
    "        graf(ctx, buf, file_name, mytemplate, k, i)"
   ]
  },
  {
   "cell_type": "code",
   "execution_count": null,
   "metadata": {},
   "outputs": [],
   "source": [
    "def type_5(i):\n",
    "    k=4\n",
    "    file_name = 'C:\\\\Users\\\\kipar\\\\Desktop\\\\Test\\\\CIR{}\\\\{}-{}.cir'.format(lab,k,i)\n",
    "    if(os.path.exists(file_name)==False):\n",
    "        mytemplate = Template(filename='C:\\\\Users\\\\kipar\\\\Desktop\\\\Test\\\\пример{}.txt'.format(k+1))\n",
    "        buf = StringIO()\n",
    "        ctx = Context(buf, N1=str(random.uniform(1.,2.)), N2=str(random.uniform(1.,2.)))\n",
    "        graf(ctx, buf, file_name, mytemplate, k, i)"
   ]
  },
  {
   "cell_type": "code",
   "execution_count": null,
   "metadata": {},
   "outputs": [],
   "source": [
    "def type_6(i):\n",
    "    k=5\n",
    "    file_name = 'C:\\\\\\\\Users\\\\\\\\kipar\\\\\\\\Desktop\\\\\\\\Test\\\\\\\\CIR{}\\\\\\\\{}-{}.cir'.format(lab,k,i)\n",
    "    if(os.path.exists(file_name)==False):\n",
    "        mytemplate = Template(filename='C:\\\\\\\\Users\\\\\\\\kipar\\\\\\\\Desktop\\\\\\\\Test\\\\\\\\пример{}.txt'.format(k+1))\n",
    "        buf = StringIO()\n",
    "        ctx = Context(buf, c1=str(random.randint(6000, 100000)), N1=str(random.uniform(1.,2.)), N2=str(random.uniform(1.,2.)))\n",
    "        graf(ctx, buf, file_name, mytemplate, k, i)"
   ]
  },
  {
   "cell_type": "code",
   "execution_count": null,
   "metadata": {},
   "outputs": [],
   "source": [
    "def type_7(i):\n",
    "    k=6\n",
    "    file_name = 'C:\\\\\\\\Users\\\\\\\\kipar\\\\\\\\Desktop\\\\\\\\Test\\\\\\\\CIR{}\\\\\\\\{}-{}.cir'.format(lab,k,i)\n",
    "    if(os.path.exists(file_name)==False):\n",
    "        mytemplate = Template(filename='C:\\\\\\\\Users\\\\\\\\kipar\\\\\\\\Desktop\\\\\\\\Test\\\\\\\\пример{}.txt'.format(k+1))\n",
    "        buf = StringIO()\n",
    "        ctx = Context(buf, c1=str(random.randint(6000, 100000)), r1=str(random.randint(500, 10000)), N1=str(random.uniform(1.,2.)), N2=str(random.uniform(1.,2.)))\n",
    "        graf(ctx, buf, file_name, mytemplate, k, i)"
   ]
  },
  {
   "cell_type": "code",
   "execution_count": null,
   "metadata": {},
   "outputs": [],
   "source": [
    "def type_8(i):\n",
    "    k=7\n",
    "    file_name = 'C:\\\\Users\\\\kipar\\\\Desktop\\\\Test\\\\CIR{}\\\\{}-{}.cir'.format(lab,k,i)\n",
    "    if(os.path.exists(file_name)==False):\n",
    "        mytemplate = Template(filename='C:\\\\Users\\\\kipar\\\\Desktop\\\\Test\\\\пример{}.txt'.format(k+1))\n",
    "        buf = StringIO()\n",
    "        ctx = Context(buf, r1=str(random.uniform(1500, 10000)), N1=str(random.uniform(1.,2.)), N2=str(random.uniform(1.,2.)))\n",
    "        graf(ctx, buf, file_name, mytemplate, k, i)"
   ]
  },
  {
   "cell_type": "code",
   "execution_count": null,
   "metadata": {},
   "outputs": [],
   "source": [
    "#создание ВАХ"
   ]
  },
  {
   "cell_type": "code",
   "execution_count": null,
   "metadata": {},
   "outputs": [],
   "source": [
    "def graf(ctx, buf, file_name, mytemplate, k, i):\n",
    "    mytemplate.render_context(ctx)\n",
    "    with open(file_name,'w') as f:\n",
    "        f.write(buf.getvalue())\n",
    "    logger = Logging.setup_logging()\n",
    "    circuit = spice.LoadFile('C:\\\\Users\\\\kipar\\\\Desktop\\\\Test\\\\CIR{}\\\\{}-{}.cir'.format(lab,k, i))\n",
    "    input_data = spice.Init_Data(100, 5, 4700, noise)\n",
    "    analysis = spice.CreateCVC1(circuit, input_data, 100, \"input\")\n",
    "    spice.SaveFile(analysis,\"C:\\\\Users\\\\kipar\\\\Desktop\\\\Test\\\\CSV{}\\\\{}.csv\".format(lab,i))\n",
    "    png(i, analysis, k)"
   ]
  },
  {
   "cell_type": "code",
   "execution_count": null,
   "metadata": {},
   "outputs": [],
   "source": [
    "#визуализация"
   ]
  },
  {
   "cell_type": "code",
   "execution_count": null,
   "metadata": {},
   "outputs": [],
   "source": [
    "def png(i, analysis, k):\n",
    "    if (i%1==0):\n",
    "            figure1 = plt.figure(1, (20, 10))\n",
    "            plt.grid()\n",
    "            plt.plot(analysis.input_dummy, analysis.VCurrent)\n",
    "            plt.xlabel('Напряжение [В]')\n",
    "            plt.ylabel('Сила тока [А]')\n",
    "            plt.xlim (-5, 5)\n",
    "            #plt.axis('off')\n",
    "            plt.show()\n",
    "            figure1.savefig('C:\\\\Users\\\\kipar\\\\Desktop\\\\Test\\\\PNG{}\\\\{}-{}.png'.format(lab,k, i), transparent=True, facecolor = \"w\")"
   ]
  },
  {
   "cell_type": "code",
   "execution_count": null,
   "metadata": {},
   "outputs": [],
   "source": [
    "def base():\n",
    "    for i in range(0, N1): \n",
    "        print(i)\n",
    "        if i<(N1/nom):\n",
    "            type_1(i)\n",
    "        if (i>=(N1/nom) and i<(N1*2/nom)):\n",
    "            type_2(i)\n",
    "        if (i>=(N1*2/nom) and i<((N1*3)/nom)):\n",
    "            type_3(i)\n",
    "        if (i>=(N1*(3/nom)) and i<N1*4/nom):\n",
    "            type_4(i)\n",
    "        if (i>=(N1*(4/nom)) and i<(N1*5/nom)):\n",
    "            type_5(i)\n",
    "        if (i>=(N1*(5/nom)) and i<(N1*6/nom)):\n",
    "            type_6(i)\n",
    "        if (i>=(N1*(6/nom)) and i<(N1*7/nom)):\n",
    "            type_7(i)\n",
    "        if (i>=(N1*(7/nom)) and i<(N1*8/nom)):\n",
    "            type_8(i)\n",
    "        "
   ]
  },
  {
   "cell_type": "code",
   "execution_count": null,
   "metadata": {
    "scrolled": true
   },
   "outputs": [],
   "source": [
    "base()"
   ]
  },
  {
   "cell_type": "code",
   "execution_count": null,
   "metadata": {},
   "outputs": [],
   "source": [
    "#создание датасета"
   ]
  },
  {
   "cell_type": "code",
   "execution_count": null,
   "metadata": {},
   "outputs": [],
   "source": [
    "#y_test\n",
    "def yy(t, n, k):\n",
    "    y = np.empty(n, dtype=int)\n",
    "    for i in range(0,n):\n",
    "        if i<(n/k):\n",
    "            y[i]=0\n",
    "        if (i>=(n/k) and i<(n*2/k)):\n",
    "            y[i]=1\n",
    "        if (i>=(n*2/k) and i<(n*3/k)):\n",
    "            y[i]=2\n",
    "        if (i>=(n*3/k) and i<(n*4/k)):\n",
    "            y[i]=3\n",
    "        if (i>=(n*4/k) and i<(n*5/k)):\n",
    "            y[i]=4\n",
    "        if (i>=(n*5/k) and i<(n*6/k)):\n",
    "            y[i]=5\n",
    "        if (i>=(n*6/k) and i<(n*7/k)):\n",
    "            y[i]=6\n",
    "        if (i>=(n*7/k) and i<(n*8/k)):\n",
    "            y[i]=7\n",
    "    return(y)     \n"
   ]
  },
  {
   "cell_type": "code",
   "execution_count": null,
   "metadata": {},
   "outputs": [],
   "source": [
    "def dataset(n, l, k):\n",
    "    t = np.random.permutation(n)\n",
    "    y1=yy(t,n, k)\n",
    "    lam = np.empty((n, 2, point))\n",
    "    tan = np.empty((n, 2, point))\n",
    "    for i in range(0,n):\n",
    "        p=random.randint(0,point)\n",
    "        #print(p)\n",
    "        lam[i, :, :]=genfromtxt('C:\\\\Users\\\\kipar\\\\Desktop\\\\Test\\\\CSV{}\\\\{}.csv'.format(l,i), delimiter=';')\n",
    "        lam[i, :, :]=np.hstack((lam[i, :, p:point], lam[i, :, 0:p]))\n",
    "    x=np.empty((n, 2, point))\n",
    "    y = np.empty(n, dtype=int)\n",
    "    for i in range(0,n):\n",
    "        for j in range(0,2):\n",
    "            x[i, j, :]=lam[t[i], j, :]/max(abs(lam[t[i], j, :]))\n",
    "        y[i]=y1[t[i]]\n",
    "    return(x, y)"
   ]
  },
  {
   "cell_type": "code",
   "execution_count": null,
   "metadata": {},
   "outputs": [],
   "source": [
    "#создание векторов\n",
    "def xx(n, x):\n",
    "    lam = np.empty((n, point, 2))\n",
    "    for i in range(0, n):\n",
    "        for j in range(0, point):\n",
    "            if (j!=point-1):\n",
    "                lam[i, j, :]=[x[i, 0, j+1]-x[i, 0, j] ,x[i, 1, j+1]-x[i, 1, j]]\n",
    "            else:\n",
    "                lam[i, j, :]=[x[i, 0, 0]-x[i, 0, j] ,x[i, 1, 0]-x[i, 1, j]]\n",
    "    return(lam)"
   ]
  },
  {
   "cell_type": "code",
   "execution_count": null,
   "metadata": {},
   "outputs": [],
   "source": [
    "x1, y_test = dataset(32000,2, 8)\n",
    "x_test=xx(32000, x1)"
   ]
  },
  {
   "cell_type": "code",
   "execution_count": null,
   "metadata": {},
   "outputs": [],
   "source": [
    "#обучение нейронной сети"
   ]
  },
  {
   "cell_type": "code",
   "execution_count": null,
   "metadata": {
    "scrolled": true
   },
   "outputs": [],
   "source": [
    "model = tf.keras.models.Sequential([\n",
    "tf.keras.layers.Flatten(input_shape=(2, 100)),\n",
    "tf.keras.layers.Dense(100, activation=tf.nn.relu),\n",
    "tf.keras.layers.Dropout(0.3),\n",
    "tf.keras.layers.Dense(8, activation=tf.nn.softmax)])\n",
    "model.compile(optimizer='adam',\n",
    "loss='sparse_categorical_crossentropy',\n",
    "metrics=['accuracy'])\n",
    "history=model.fit(x1, y_test, epochs=200, validation_split=0.5)"
   ]
  },
  {
   "cell_type": "code",
   "execution_count": null,
   "metadata": {},
   "outputs": [],
   "source": [
    "model.summary()"
   ]
  },
  {
   "cell_type": "code",
   "execution_count": null,
   "metadata": {},
   "outputs": [],
   "source": [
    "plt.plot(history.history['accuracy'])\n",
    "plt.plot(history.history['val_accuracy'])\n",
    "plt.title('model accuracy')\n",
    "plt.ylabel('accuracy')\n",
    "plt.xlabel('epoch')\n",
    "plt.legend(['train', 'validation'], loc='upper left')\n",
    "plt.show()\n",
    "plt.plot(history.history['loss'])\n",
    "plt.plot(history.history['val_loss'])\n",
    "plt.title('model loss')\n",
    "plt.ylabel('loss')\n",
    "plt.xlabel('epoch')\n",
    "plt.legend(['train', 'validation'], loc='upper left')\n",
    "plt.show()"
   ]
  },
  {
   "cell_type": "code",
   "execution_count": null,
   "metadata": {
    "scrolled": true
   },
   "outputs": [],
   "source": [
    "predictions=model.predict(x1)\n",
    "for i in range(0, 10000):\n",
    "    print(np.argmax(predictions[i]), \" \", y_test[i])\n",
    "    if(np.argmax(predictions[i])!=y_test[i]):\n",
    "    if(y_test[i]==1):\n",
    "        figure1 = plt.figure(1, (20, 10))\n",
    "        plt.grid()\n",
    "        plt.plot(x1[i, 0, :], x1[i, 1, :])\n",
    "        plt.xlabel('Напряжение [В]')\n",
    "        plt.ylabel('Сила тока [А]')\n",
    "        plt.xlim (-5, 5)\n",
    "        plt.show()"
   ]
  }
 ],
 "metadata": {
  "kernelspec": {
   "display_name": "Python 3",
   "language": "python",
   "name": "python3"
  }
 },
 "nbformat": 4,
 "nbformat_minor": 4
}
